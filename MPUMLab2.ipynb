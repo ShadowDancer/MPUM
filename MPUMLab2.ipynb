{
 "cells": [
  {
   "cell_type": "code",
   "execution_count": 77,
   "metadata": {},
   "outputs": [
    {
     "name": "stdout",
     "output_type": "stream",
     "text": [
      "5.843333333333334 3.0540000000000003\n",
      "0.6811222222222223 0.18675066666666668\n"
     ]
    },
    {
     "data": {
      "image/png": "[encoded data removed]",
      "text/plain": [
       "<matplotlib.figure.Figure at 0x1d89175c390>"
      ]
     },
     "metadata": {},
     "output_type": "display_data"
    }
   ],
   "source": [
    "from sklearn.datasets import load_iris\n",
    "import matplotlib.pyplot as plt\n",
    "import numpy as np\n",
    "\n",
    "iris = load_iris()\n",
    "X = iris.data[:, :2]  # we only take the first two features.\n",
    "y = iris.target\n",
    "\n",
    "meanX = np.mean(X[:,0])\n",
    "meanY = np.mean(X[:,1])\n",
    "\n",
    "varX = np.var(X[:,0])\n",
    "varY = np.var(X[:,1])\n",
    "print(meanX, meanY)\n",
    "print(varX, varY)\n",
    "\n",
    "pointsIn = []\n",
    "pointsOut = []\n",
    "\n",
    "for i in range(0, len(X)):\n",
    "    p = X[i]\n",
    "    if ((p[0] - meanX)**2 + (p[1] - meanY)**2) <= 1:\n",
    "        pointsIn.append(p)\n",
    "    else:\n",
    "        pointsOut.append(p)\n",
    "\n",
    "pointsIn = np.array(pointsIn)\n",
    "pointsOut = np.array(pointsOut)\n",
    "\n",
    "\n",
    "fig = plt.gcf()\n",
    "ax = fig.gca()\n",
    "ax.add_artist(plt.Circle((meanX, meanY), 1, color='g', fill=False))\n",
    "plt.scatter(pointsIn[:, 0], pointsIn[:, 1], color='r')\n",
    "plt.scatter(pointsOut[:, 0], pointsOut[:, 1], color='g')\n",
    "plt.xlabel('Sepal length')\n",
    "plt.ylabel('Sepal width')\n",
    "plt.show()"
   ]
  },
  {
   "cell_type": "code",
   "execution_count": 5,
   "metadata": {},
   "outputs": [
    {
     "name": "stdout",
     "output_type": "stream",
     "text": [
      "macierz kowariancji: \n",
      "[[ 0.67743859 -0.03679649]\n",
      " [-0.03679649  0.18542456]]\n",
      "Odległość\n",
      "[[93.60074998]]\n",
      "punktów w:  100  punktów poza: 198\n"
     ]
    },
    {
     "data": {
      "image/png": "[encoded data removed]",
      "text/plain": [
       "<matplotlib.figure.Figure at 0x1cc57f387f0>"
      ]
     },
     "metadata": {},
     "output_type": "display_data"
    }
   ],
   "source": [
    "from sklearn.datasets import load_iris\n",
    "import matplotlib as matplotlib\n",
    "import matplotlib.pyplot as plt\n",
    "import numpy as np\n",
    "\n",
    "iris = load_iris()\n",
    "X = iris.data[:, :2]  # we only take the first two features.\n",
    "y = iris.target\n",
    "\n",
    "X = np.array(X)\n",
    "\n",
    "meanX = np.mean(X[:,0])\n",
    "meanY = np.mean(X[:,1])\n",
    "\n",
    "N = len(X[:,0])\n",
    "\n",
    "mean = np.array([meanX, meanY])\n",
    "\n",
    "# obliczamy macież kowariancji\n",
    "cov = np.zeros(shape=(2, 2))\n",
    "for i in range(1, N):\n",
    "    cov += np.atleast_2d(X[i]-mean).T*(X[i]-mean)\n",
    "cov = cov * (1/N)\n",
    "cov = np.matrix(cov)\n",
    "print('macierz kowariancji: ')\n",
    "print(cov)\n",
    "\n",
    "\n",
    "# obliczamy odległość\n",
    "def mahalanobisDistance(p1, p2, sigma):\n",
    "    p1 = np.atleast_2d(p1)\n",
    "    p2 = np.atleast_2d(p2)\n",
    "    return p1               \\\n",
    "            .dot(sigma.I)       \\\n",
    "            .dot(p2.T)      \\\n",
    "            [0,0]\n",
    "\n",
    "print('Odległość')\n",
    "p1 =  np.atleast_2d(X[1])\n",
    "p2 =  np.atleast_2d(X[2])\n",
    "print(p1.dot(cov.I).dot(p1.T))\n",
    "\n",
    "\n",
    "pointsIn = []\n",
    "pointsOut = []\n",
    "for i in range(1, N):\n",
    "    p = X[i] - mean\n",
    "    if mahalanobisDistance(p, p, cov) <= 1:\n",
    "        pointsIn.append(p)\n",
    "    else:\n",
    "        pointsOut.append(p)\n",
    "        \n",
    "        \n",
    "pointsIn = np.array(pointsIn)\n",
    "pointsOut = np.array(pointsOut)\n",
    "\n",
    "print('punktów w: ', pointsIn.size, ' punktów poza:', pointsOut.size)\n",
    "\n",
    "if pointsIn.size > 0:\n",
    "    plt.scatter(pointsIn[:, 0], pointsIn[:, 1], color='r')\n",
    "if pointsOut.size > 0:\n",
    "    plt.scatter(pointsOut[:, 0], pointsOut[:, 1], color='g')\n",
    "    \n",
    "fig = plt.gcf()\n",
    "ax = fig.gca()\n",
    "trf = matplotlib.transforms.Affine2D(cov)\n",
    "circle = plt.Circle((meanX, meanY), 1, color='g', fill=False)\n",
    "ax.add_artist(circle)\n",
    "\n",
    "plt.xlabel('Sepal length')\n",
    "\n",
    "plt.show()"
   ]
  },
  {
   "cell_type": "code",
   "execution_count": null,
   "metadata": {},
   "outputs": [],
   "source": []
  }
 ],
 "metadata": {
  "kernelspec": {
   "display_name": "Python 3",
   "language": "python",
   "name": "python3"
  },
  "language_info": {
   "codemirror_mode": {
    "name": "ipython",
    "version": 3
   },
   "file_extension": ".py",
   "mimetype": "text/x-python",
   "name": "python",
   "nbconvert_exporter": "python",
   "pygments_lexer": "ipython3",
   "version": "3.6.3"
  }
 },
 "nbformat": 4,
 "nbformat_minor": 2
}
